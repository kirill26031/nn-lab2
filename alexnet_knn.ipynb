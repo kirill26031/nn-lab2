{
 "cells": [
  {
   "cell_type": "code",
   "execution_count": 1,
   "metadata": {},
   "outputs": [
    {
     "data": {
      "application/vnd.jupyter.widget-view+json": {
       "model_id": "44f892f6078d474a8193b32cbc4cea14",
       "version_major": 2,
       "version_minor": 0
      },
      "text/plain": [
       "Resolving data files:   0%|          | 0/19 [00:00<?, ?it/s]"
      ]
     },
     "metadata": {},
     "output_type": "display_data"
    },
    {
     "data": {
      "application/vnd.jupyter.widget-view+json": {
       "model_id": "d4fa604031394b47b480aa487d9b7128",
       "version_major": 2,
       "version_minor": 0
      },
      "text/plain": [
       "Resolving data files:   0%|          | 0/19 [00:00<?, ?it/s]"
      ]
     },
     "metadata": {},
     "output_type": "display_data"
    },
    {
     "name": "stderr",
     "output_type": "stream",
     "text": [
      "Using cache found in C:\\Users\\pc/.cache\\torch\\hub\\pytorch_vision_v0.10.0\n",
      "c:\\ProgramData\\anaconda3\\Lib\\site-packages\\torchvision\\models\\_utils.py:208: UserWarning: The parameter 'pretrained' is deprecated since 0.13 and may be removed in the future, please use 'weights' instead.\n",
      "  warnings.warn(\n",
      "c:\\ProgramData\\anaconda3\\Lib\\site-packages\\torchvision\\models\\_utils.py:223: UserWarning: Arguments other than a weight enum or `None` for 'weights' are deprecated since 0.13 and may be removed in the future. The current behavior is equivalent to passing `weights=AlexNet_Weights.IMAGENET1K_V1`. You can also use `weights=AlexNet_Weights.DEFAULT` to get the most up-to-date weights.\n",
      "  warnings.warn(msg)\n",
      "Using cache found in C:\\Users\\pc/.cache\\torch\\hub\\pytorch_vision_v0.10.0\n"
     ]
    }
   ],
   "source": [
    "from data import dataset, PlantOrgansDataset\n",
    "from preprocessing import preprocess_image_and_mask\n",
    "import torchvision.transforms.v2 as T\n",
    "import torch\n",
    "import numpy as np\n",
    "from alexnet import MyTransform, SlidingWindow, get_extractor, get_feature, get_model\n",
    "from train import device, pixel_validate, patch_loss, patch_validate, evaluate, fit\n",
    "import torch.utils.data as data_utils\n",
    "from kmeans import KNN\n",
    "from evaluate import calculate_metrics\n",
    "from torch.utils.data import DataLoader\n",
    "from alexnet_knn import perform_segmentation, save_features, segmentation_image, retrieve_features, read_features, load_and_merge_knn_features, get_feature_filename\n",
    "import umap\n",
    "from sklearn.manifold import trustworthiness\n",
    "import pickle\n",
    "import os\n",
    "import lz4"
   ]
  },
  {
   "cell_type": "code",
   "execution_count": 2,
   "metadata": {},
   "outputs": [],
   "source": [
    "from transforms import image_to_tensor, mask_to_tensor"
   ]
  },
  {
   "cell_type": "markdown",
   "metadata": {},
   "source": [
    "Constants"
   ]
  },
  {
   "cell_type": "code",
   "execution_count": 3,
   "metadata": {},
   "outputs": [],
   "source": [
    "src_path = \"C:\\\\Users\\\\pc\\\\Documents\\\\repos\\\\mp-2\\\\nn\\\\nn-lab2\\\\\""
   ]
  },
  {
   "cell_type": "markdown",
   "metadata": {},
   "source": [
    "Init datasets"
   ]
  },
  {
   "cell_type": "code",
   "execution_count": 4,
   "metadata": {},
   "outputs": [],
   "source": [
    "train_validation_data = dataset['train'].train_test_split(test_size=0.2, seed=42)\n",
    "train_dataset = train_validation_data['train']\n",
    "validation_dataset = train_validation_data['test']\n",
    "test_dataset = dataset['validation']\n"
   ]
  },
  {
   "cell_type": "code",
   "execution_count": 5,
   "metadata": {},
   "outputs": [],
   "source": [
    "config = {\n",
    "    \"layer_name\": \"classifier.0\",\n",
    "    \"sliding_window_size\": 32, \n",
    "    \"sliding_window_step\": 11, \n",
    "    \"feature_depth\": 9216,\n",
    "    \"resize_size\": 512 \n",
    "}"
   ]
  },
  {
   "cell_type": "code",
   "execution_count": 6,
   "metadata": {},
   "outputs": [
    {
     "name": "stderr",
     "output_type": "stream",
     "text": [
      "Using cache found in C:\\Users\\pc/.cache\\torch\\hub\\pytorch_vision_v0.10.0\n",
      "c:\\ProgramData\\anaconda3\\Lib\\site-packages\\torchvision\\models\\_utils.py:208: UserWarning: The parameter 'pretrained' is deprecated since 0.13 and may be removed in the future, please use 'weights' instead.\n",
      "  warnings.warn(\n",
      "c:\\ProgramData\\anaconda3\\Lib\\site-packages\\torchvision\\models\\_utils.py:223: UserWarning: Arguments other than a weight enum or `None` for 'weights' are deprecated since 0.13 and may be removed in the future. The current behavior is equivalent to passing `weights=AlexNet_Weights.IMAGENET1K_V1`. You can also use `weights=AlexNet_Weights.DEFAULT` to get the most up-to-date weights.\n",
      "  warnings.warn(msg)\n"
     ]
    }
   ],
   "source": [
    "model = get_model(device)"
   ]
  },
  {
   "cell_type": "code",
   "execution_count": 24,
   "metadata": {},
   "outputs": [
    {
     "name": "stderr",
     "output_type": "stream",
     "text": [
      "c:\\ProgramData\\anaconda3\\Lib\\site-packages\\torchvision\\transforms\\v2\\_deprecated.py:42: UserWarning: The transform `ToTensor()` is deprecated and will be removed in a future release. Instead, please use `v2.Compose([v2.ToImage(), v2.ToDtype(torch.float32, scale=True)])`.Output is equivalent up to float precision.\n",
      "  warnings.warn(\n"
     ]
    }
   ],
   "source": [
    "image_to_tensor_512 = image_to_tensor(config[\"resize_size\"])\n",
    "\n",
    "def mask_of_uniform_size(resize_size: int):\n",
    "    return T.Compose([\n",
    "    T.Resize((resize_size, resize_size), interpolation=T.InterpolationMode.NEAREST_EXACT),\n",
    "    mask_to_tensor,\n",
    "])\n",
    "\n",
    "mask_to_tensor_512 = mask_of_uniform_size(config[\"resize_size\"])"
   ]
  },
  {
   "cell_type": "code",
   "execution_count": 131,
   "metadata": {},
   "outputs": [],
   "source": [
    "train_size = 30\n",
    "test_size = 10"
   ]
  },
  {
   "cell_type": "code",
   "execution_count": 132,
   "metadata": {},
   "outputs": [],
   "source": [
    "train_dataset_images = torch.concat(list(map(lambda image: image_to_tensor_512(image).unsqueeze(0), train_dataset[0:train_size]['image'])))"
   ]
  },
  {
   "cell_type": "code",
   "execution_count": 133,
   "metadata": {},
   "outputs": [],
   "source": [
    "train_dataset_masks = torch.concat(list(map(lambda mask: mask_to_tensor_512(mask), train_dataset[0:train_size]['label'])))"
   ]
  },
  {
   "cell_type": "code",
   "execution_count": 134,
   "metadata": {},
   "outputs": [],
   "source": [
    "test_dataset_images = torch.concat(list(map(lambda image: image_to_tensor_512(image).unsqueeze(0), test_dataset[0:test_size]['image'])))\n",
    "# test_dataset_masks = mask_to_tensor(test_dataset[0:test_size]['label'])"
   ]
  },
  {
   "cell_type": "code",
   "execution_count": 135,
   "metadata": {},
   "outputs": [],
   "source": [
    "with open(os.path.join(\"umap_model_5.lz4\"), 'rb') as f:\n",
    "    reducer = pickle.load(f)"
   ]
  },
  {
   "cell_type": "code",
   "execution_count": 154,
   "metadata": {},
   "outputs": [],
   "source": [
    "train_reduced_features = []"
   ]
  },
  {
   "cell_type": "code",
   "execution_count": 155,
   "metadata": {},
   "outputs": [],
   "source": [
    "for i in range(train_size):\n",
    "    file_name = get_feature_filename(i, src_path, config[\"layer_name\"], config[\"sliding_window_size\"], config[\"sliding_window_step\"], \"train\", config[\"resize_size\"])\n",
    "    reduced_file_name = file_name  + \"_reduced.lx4\"\n",
    "    torch.cuda.empty_cache()\n",
    "    if os.path.isfile(reduced_file_name):\n",
    "        _reduced_features = read_features(i, src_path, reduced_file_name).to(\"cpu\")\n",
    "    else:\n",
    "        if os.path.isfile(file_name):\n",
    "            _features = read_features(i, src_path, file_name).to(\"cpu\")\n",
    "        else:\n",
    "            _features = retrieve_features(train_dataset_images[i].unsqueeze(0).to(device), config[\"layer_name\"], config[\"sliding_window_size\"], config[\"sliding_window_step\"], config[\"feature_depth\"], model).to(\"cpu\")\n",
    "            save_features(_features, file_name)\n",
    "        features_transformed = reducer.transform(_features.view(_features.size(0) * _features.size(1), -1))\n",
    "        _reduced_features = torch.tensor(features_transformed)\n",
    "        save_features(_reduced_features, reduced_file_name)\n",
    "    train_reduced_features.append(_reduced_features)\n",
    "reduced_train_features_tensor = torch.concat(train_reduced_features)\n",
    "torch.cuda.empty_cache()"
   ]
  },
  {
   "cell_type": "code",
   "execution_count": 138,
   "metadata": {},
   "outputs": [],
   "source": [
    "from transforms import mask_of_uniform_size\n",
    "def get_ground_truth_for_indices(indices, dataset):\n",
    "    ground_truths = []\n",
    "    for i in indices:\n",
    "        mask_patches = SlidingWindow(32, 11)(dataset[i].unsqueeze(0).unsqueeze(0))\n",
    "        mask_patches_ = mask_patches.view(mask_patches.size(0), mask_patches.size(1), -1)\n",
    "        ground_truths.append(torch.mode(mask_patches_, dim=2).values.to(dtype=torch.int8).view(-1))\n",
    "        del mask_patches, mask_patches_\n",
    "    merged_ground_truths = torch.cat(ground_truths, dim=0).to(device)\n",
    "    del ground_truths\n",
    "    return merged_ground_truths"
   ]
  },
  {
   "cell_type": "code",
   "execution_count": 156,
   "metadata": {},
   "outputs": [],
   "source": [
    "train_ground_truth = get_ground_truth_for_indices(range(0, train_size), train_dataset_masks)"
   ]
  },
  {
   "cell_type": "code",
   "execution_count": 157,
   "metadata": {},
   "outputs": [],
   "source": [
    "knn = KNN(reduced_train_features_tensor.to(device), train_ground_truth.to(device), 5, save_memory=True)"
   ]
  },
  {
   "cell_type": "code",
   "execution_count": 158,
   "metadata": {},
   "outputs": [],
   "source": [
    "test_reduced_features = []\n",
    "for i in range(test_size):\n",
    "    file_name = get_feature_filename(i, src_path, config[\"layer_name\"], config[\"sliding_window_size\"], config[\"sliding_window_step\"], \"test\", config[\"resize_size\"])\n",
    "    reduced_file_name = file_name  + \"_reduced.lx4\"\n",
    "    torch.cuda.empty_cache()\n",
    "    if os.path.isfile(reduced_file_name):\n",
    "        _reduced_features = read_features(i, src_path, reduced_file_name).to(\"cpu\")\n",
    "    else:\n",
    "        if os.path.isfile(file_name):\n",
    "            _features = read_features(i, src_path, file_name).to(\"cpu\")\n",
    "        else:\n",
    "            _features = retrieve_features(test_dataset_images[i].unsqueeze(0).to(device), config[\"layer_name\"], config[\"sliding_window_size\"], config[\"sliding_window_step\"], config[\"feature_depth\"], model).to(\"cpu\")\n",
    "            save_features(_features, file_name)\n",
    "        features_transformed = reducer.transform(_features.view(_features.size(0) * _features.size(1), -1))\n",
    "        _reduced_features = torch.tensor(features_transformed)\n",
    "        save_features(_reduced_features, reduced_file_name)\n",
    "    test_reduced_features.append(_reduced_features)\n",
    "reduced_test_features_tensor = torch.concat(test_reduced_features)\n",
    "torch.cuda.empty_cache()"
   ]
  },
  {
   "cell_type": "code",
   "execution_count": 159,
   "metadata": {},
   "outputs": [
    {
     "data": {
      "text/plain": [
       "torch.Size([10, 47, 47, 64])"
      ]
     },
     "execution_count": 159,
     "metadata": {},
     "output_type": "execute_result"
    }
   ],
   "source": [
    "reduced_test_features_tensor.view(test_size, _features.size(0), _features.size(1), -1).shape"
   ]
  },
  {
   "cell_type": "code",
   "execution_count": null,
   "metadata": {},
   "outputs": [],
   "source": [
    "step = 48\n",
    "predicted_masks = []\n",
    "test_pictures = reduced_test_features_tensor.view(test_size, _features.size(0), _features.size(1), -1)\n",
    "for t_i in range(test_size):\n",
    "    test_picture = test_pictures[t_i].to(device)\n",
    "    predicted_mask = torch.zeros((_features.size(0), _features.size(1)))\n",
    "    for i in range(0, _features.size(0), step):\n",
    "        i_upper_limit = min(i+step, _features.size(1))\n",
    "        predicted_classes = knn.predict(test_picture[i : i_upper_limit].view(-1, test_pictures.size(3)))\n",
    "        torch.cuda.empty_cache()\n",
    "        predicted_mask[i : i_upper_limit] = predicted_classes.view(-1, _features.size(1)).to(\"cpu\")\n",
    "        print(i)\n",
    "    predicted_masks.append(predicted_mask)"
   ]
  },
  {
   "cell_type": "code",
   "execution_count": null,
   "metadata": {},
   "outputs": [
    {
     "name": "stderr",
     "output_type": "stream",
     "text": [
      "c:\\ProgramData\\anaconda3\\Lib\\site-packages\\torch\\storage.py:414: FutureWarning: You are using `torch.load` with `weights_only=False` (the current default value), which uses the default pickle module implicitly. It is possible to construct malicious pickle data which will execute arbitrary code during unpickling (See https://github.com/pytorch/pytorch/blob/main/SECURITY.md#untrusted-models for more details). In a future release, the default value for `weights_only` will be flipped to `True`. This limits the functions that could be executed during unpickling. Arbitrary objects will no longer be allowed to be loaded via this mode unless they are explicitly allowlisted by the user via `torch.serialization.add_safe_globals`. We recommend you start setting `weights_only=True` for any use case where you don't have full control of the loaded file. Please open an issue on GitHub for any issues related to this experimental feature.\n",
      "  return torch.load(io.BytesIO(b))\n"
     ]
    }
   ],
   "source": [
    "file_name = os.path.join(src_path, \"features\", \n",
    "                         \"predicted_images_{train_size}_{test_size}_{resize_size}.lz4\".format(\n",
    "                               train_size = train_size, test_size = test_size, resize_size = config[\"resize_size\"]\n",
    "                         ))\n",
    "with lz4.frame.open(file_name, mode=\"wb\") as f:\n",
    "      pickle.dump(predicted_masks, f)"
   ]
  },
  {
   "cell_type": "code",
   "execution_count": 167,
   "metadata": {},
   "outputs": [],
   "source": [
    "predicted_and_ground_truth = []\n",
    "for i in range(test_size):\n",
    "    original_size = test_dataset[i]['label'].size\n",
    "    to_original_size = T.Resize(size=(original_size[1], original_size[0]), interpolation=T.InterpolationMode.NEAREST_EXACT)\n",
    "    predicted_mask_of_original_size = to_original_size(predicted_masks[i].unsqueeze(0))\n",
    "    # predicted_masks_of_original_size.append(predicted_mask_of_original_size)\n",
    "    ground_truth = mask_to_tensor(test_dataset[i]['label'])\n",
    "    predicted_and_ground_truth.append((predicted_mask_of_original_size.to(torch.int64), ground_truth.to(torch.int64)))"
   ]
  },
  {
   "cell_type": "code",
   "execution_count": null,
   "metadata": {},
   "outputs": [],
   "source": [
    "import torchmetrics\n",
    "from torchmetrics.segmentation import MeanIoU"
   ]
  },
  {
   "cell_type": "code",
   "execution_count": 168,
   "metadata": {},
   "outputs": [],
   "source": [
    "result_metrics = torch.zeros((test_size, 6))\n",
    "for i in range(test_size):\n",
    "    predicted, ground_truth = predicted_and_ground_truth[i]\n",
    "    acc = torchmetrics.functional.accuracy(predicted.to(device), ground_truth.to(device), task=\"multiclass\", num_classes=5).to(\"cpu\")\n",
    "    meanIoU = MeanIoU(num_classes=5, input_format='index', include_background=True, per_class=True).to(device)\n",
    "    meanIoU_result = meanIoU(predicted.to(device), ground_truth.to(device)).to(\"cpu\")\n",
    "    result_metrics[i][0] = acc\n",
    "    result_metrics[i][1:6] = meanIoU_result"
   ]
  },
  {
   "cell_type": "code",
   "execution_count": 169,
   "metadata": {},
   "outputs": [
    {
     "name": "stdout",
     "output_type": "stream",
     "text": [
      "Average accuracy:  0.826777458190918\n",
      "Average meanIoU_result:  tensor([0.8187, 0.3792, 0.0668, 0.0000, 0.0050])\n"
     ]
    }
   ],
   "source": [
    "mean_results = result_metrics.mean(dim=0)\n",
    "print(\"Average accuracy: \", mean_results[0].item())\n",
    "print(\"Average meanIoU_result: \", mean_results[1:6])"
   ]
  },
  {
   "cell_type": "code",
   "execution_count": null,
   "metadata": {},
   "outputs": [],
   "source": []
  }
 ],
 "metadata": {
  "kernelspec": {
   "display_name": "base",
   "language": "python",
   "name": "python3"
  },
  "language_info": {
   "codemirror_mode": {
    "name": "ipython",
    "version": 3
   },
   "file_extension": ".py",
   "mimetype": "text/x-python",
   "name": "python",
   "nbconvert_exporter": "python",
   "pygments_lexer": "ipython3",
   "version": "3.12.3"
  }
 },
 "nbformat": 4,
 "nbformat_minor": 2
}
